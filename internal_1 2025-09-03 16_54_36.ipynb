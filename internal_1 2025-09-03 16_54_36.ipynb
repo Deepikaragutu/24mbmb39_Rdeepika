{
 "cells": [
  {
   "cell_type": "code",
   "execution_count": 0,
   "metadata": {
    "application/vnd.databricks.v1+cell": {
     "cellMetadata": {
      "byteLimit": 2048000,
      "rowLimit": 10000
     },
     "inputWidgets": {},
     "nuid": "70c48939-08bd-4394-9d2e-95ffc0cd835f",
     "showTitle": false,
     "tableResultSettingsMap": {},
     "title": ""
    }
   },
   "outputs": [
    {
     "output_type": "display_data",
     "data": {
      "text/html": [
       "<style scoped>\n",
       "  .table-result-container {\n",
       "    max-height: 300px;\n",
       "    overflow: auto;\n",
       "  }\n",
       "  table, th, td {\n",
       "    border: 1px solid black;\n",
       "    border-collapse: collapse;\n",
       "  }\n",
       "  th, td {\n",
       "    padding: 5px;\n",
       "  }\n",
       "  th {\n",
       "    text-align: left;\n",
       "  }\n",
       "</style><div class='table-result-container'><table class='table-result'><thead style='background-color: white'><tr><th>customer_id</th><th>customer_name</th><th>locality</th></tr></thead><tbody><tr><td>C001</td><td>Arjun Mehta</td><td>Delhi</td></tr><tr><td>C002</td><td>Ananya Sharma</td><td>Mumbai</td></tr><tr><td>C003</td><td>Rahul Verma</td><td>Bangalore</td></tr><tr><td>C004</td><td>Neha Gupta</td><td>Hyderabad</td></tr><tr><td>C005</td><td>Amit Singh</td><td>Chennai</td></tr></tbody></table></div>"
      ]
     },
     "metadata": {
      "application/vnd.databricks.v1+output": {
       "addedWidgets": {},
       "aggData": [],
       "aggError": "",
       "aggOverflow": false,
       "aggSchema": [],
       "aggSeriesLimitReached": false,
       "aggType": "",
       "arguments": {},
       "columnCustomDisplayInfos": {},
       "data": [
        [
         "C001",
         "Arjun Mehta",
         "Delhi"
        ],
        [
         "C002",
         "Ananya Sharma",
         "Mumbai"
        ],
        [
         "C003",
         "Rahul Verma",
         "Bangalore"
        ],
        [
         "C004",
         "Neha Gupta",
         "Hyderabad"
        ],
        [
         "C005",
         "Amit Singh",
         "Chennai"
        ]
       ],
       "datasetInfos": [],
       "dbfsResultPath": null,
       "isJsonSchema": true,
       "metadata": {},
       "overflow": false,
       "plotOptions": {
        "customPlotOptions": {},
        "displayType": "table",
        "pivotAggregation": null,
        "pivotColumns": null,
        "xColumns": null,
        "yColumns": null
       },
       "removedWidgets": [],
       "schema": [
        {
         "metadata": "{}",
         "name": "customer_id",
         "type": "\"string\""
        },
        {
         "metadata": "{}",
         "name": "customer_name",
         "type": "\"string\""
        },
        {
         "metadata": "{}",
         "name": "locality",
         "type": "\"string\""
        }
       ],
       "type": "table"
      }
     },
     "output_type": "display_data"
    },
    {
     "output_type": "display_data",
     "data": {
      "text/html": [
       "<style scoped>\n",
       "  .table-result-container {\n",
       "    max-height: 300px;\n",
       "    overflow: auto;\n",
       "  }\n",
       "  table, th, td {\n",
       "    border: 1px solid black;\n",
       "    border-collapse: collapse;\n",
       "  }\n",
       "  th, td {\n",
       "    padding: 5px;\n",
       "  }\n",
       "  th {\n",
       "    text-align: left;\n",
       "  }\n",
       "</style><div class='table-result-container'><table class='table-result'><thead style='background-color: white'><tr><th>order_id</th><th>customer_id</th><th>restaurant_id</th><th>delivery_partner_id</th><th>order_value</th><th>delivery_time</th><th>order_status</th><th>date_timestamp</th></tr></thead><tbody><tr><td>O001</td><td>C001</td><td>R001</td><td>D001</td><td>450.75</td><td>32</td><td>Delivered</td><td>2025-08-01T12:15:00.000Z</td></tr><tr><td>O002</td><td>C005</td><td>R004</td><td>D004</td><td>799.5</td><td>40</td><td>Delivered</td><td>2025-08-01T13:05:00.000Z</td></tr><tr><td>O003</td><td>C010</td><td>R007</td><td>D009</td><td>299.0</td><td>25</td><td>Cancelled</td><td>2025-08-01T14:10:00.000Z</td></tr><tr><td>O004</td><td>C012</td><td>R002</td><td>D002</td><td>560.2</td><td>30</td><td>Delivered</td><td>2025-08-01T18:45:00.000Z</td></tr><tr><td>O005</td><td>C015</td><td>R003</td><td>D003</td><td>999.99</td><td>55</td><td>Delivered</td><td>2025-08-02T12:00:00.000Z</td></tr></tbody></table></div>"
      ]
     },
     "metadata": {
      "application/vnd.databricks.v1+output": {
       "addedWidgets": {},
       "aggData": [],
       "aggError": "",
       "aggOverflow": false,
       "aggSchema": [],
       "aggSeriesLimitReached": false,
       "aggType": "",
       "arguments": {},
       "columnCustomDisplayInfos": {},
       "data": [
        [
         "O001",
         "C001",
         "R001",
         "D001",
         450.75,
         32,
         "Delivered",
         "2025-08-01T12:15:00.000Z"
        ],
        [
         "O002",
         "C005",
         "R004",
         "D004",
         799.5,
         40,
         "Delivered",
         "2025-08-01T13:05:00.000Z"
        ],
        [
         "O003",
         "C010",
         "R007",
         "D009",
         299.0,
         25,
         "Cancelled",
         "2025-08-01T14:10:00.000Z"
        ],
        [
         "O004",
         "C012",
         "R002",
         "D002",
         560.2,
         30,
         "Delivered",
         "2025-08-01T18:45:00.000Z"
        ],
        [
         "O005",
         "C015",
         "R003",
         "D003",
         999.99,
         55,
         "Delivered",
         "2025-08-02T12:00:00.000Z"
        ]
       ],
       "datasetInfos": [],
       "dbfsResultPath": null,
       "isJsonSchema": true,
       "metadata": {},
       "overflow": false,
       "plotOptions": {
        "customPlotOptions": {},
        "displayType": "table",
        "pivotAggregation": null,
        "pivotColumns": null,
        "xColumns": null,
        "yColumns": null
       },
       "removedWidgets": [],
       "schema": [
        {
         "metadata": "{}",
         "name": "order_id",
         "type": "\"string\""
        },
        {
         "metadata": "{}",
         "name": "customer_id",
         "type": "\"string\""
        },
        {
         "metadata": "{}",
         "name": "restaurant_id",
         "type": "\"string\""
        },
        {
         "metadata": "{}",
         "name": "delivery_partner_id",
         "type": "\"string\""
        },
        {
         "metadata": "{}",
         "name": "order_value",
         "type": "\"double\""
        },
        {
         "metadata": "{}",
         "name": "delivery_time",
         "type": "\"integer\""
        },
        {
         "metadata": "{}",
         "name": "order_status",
         "type": "\"string\""
        },
        {
         "metadata": "{}",
         "name": "date_timestamp",
         "type": "\"timestamp\""
        }
       ],
       "type": "table"
      }
     },
     "output_type": "display_data"
    },
    {
     "output_type": "display_data",
     "data": {
      "text/html": [
       "<style scoped>\n",
       "  .table-result-container {\n",
       "    max-height: 300px;\n",
       "    overflow: auto;\n",
       "  }\n",
       "  table, th, td {\n",
       "    border: 1px solid black;\n",
       "    border-collapse: collapse;\n",
       "  }\n",
       "  th, td {\n",
       "    padding: 5px;\n",
       "  }\n",
       "  th {\n",
       "    text-align: left;\n",
       "  }\n",
       "</style><div class='table-result-container'><table class='table-result'><thead style='background-color: white'><tr><th>delivery_partner_id</th><th>delivery_partner_name</th><th>locality</th></tr></thead><tbody><tr><td>D001</td><td>Ajay Kumar</td><td>Delhi</td></tr><tr><td>D002</td><td>Ramesh Singh</td><td>Mumbai</td></tr><tr><td>D003</td><td>Vinod Sharma</td><td>Bangalore</td></tr><tr><td>D004</td><td>Santosh Gupta</td><td>Hyderabad</td></tr><tr><td>D005</td><td>Arvind Reddy</td><td>Chennai</td></tr></tbody></table></div>"
      ]
     },
     "metadata": {
      "application/vnd.databricks.v1+output": {
       "addedWidgets": {},
       "aggData": [],
       "aggError": "",
       "aggOverflow": false,
       "aggSchema": [],
       "aggSeriesLimitReached": false,
       "aggType": "",
       "arguments": {},
       "columnCustomDisplayInfos": {},
       "data": [
        [
         "D001",
         "Ajay Kumar",
         "Delhi"
        ],
        [
         "D002",
         "Ramesh Singh",
         "Mumbai"
        ],
        [
         "D003",
         "Vinod Sharma",
         "Bangalore"
        ],
        [
         "D004",
         "Santosh Gupta",
         "Hyderabad"
        ],
        [
         "D005",
         "Arvind Reddy",
         "Chennai"
        ]
       ],
       "datasetInfos": [],
       "dbfsResultPath": null,
       "isJsonSchema": true,
       "metadata": {},
       "overflow": false,
       "plotOptions": {
        "customPlotOptions": {},
        "displayType": "table",
        "pivotAggregation": null,
        "pivotColumns": null,
        "xColumns": null,
        "yColumns": null
       },
       "removedWidgets": [],
       "schema": [
        {
         "metadata": "{}",
         "name": "delivery_partner_id",
         "type": "\"string\""
        },
        {
         "metadata": "{}",
         "name": "delivery_partner_name",
         "type": "\"string\""
        },
        {
         "metadata": "{}",
         "name": "locality",
         "type": "\"string\""
        }
       ],
       "type": "table"
      }
     },
     "output_type": "display_data"
    },
    {
     "output_type": "display_data",
     "data": {
      "text/html": [
       "<style scoped>\n",
       "  .table-result-container {\n",
       "    max-height: 300px;\n",
       "    overflow: auto;\n",
       "  }\n",
       "  table, th, td {\n",
       "    border: 1px solid black;\n",
       "    border-collapse: collapse;\n",
       "  }\n",
       "  th, td {\n",
       "    padding: 5px;\n",
       "  }\n",
       "  th {\n",
       "    text-align: left;\n",
       "  }\n",
       "</style><div class='table-result-container'><table class='table-result'><thead style='background-color: white'><tr><th>order_id</th><th>customer_id</th><th>restaurant_id</th><th>delivery_partner_id</th><th>order_value</th><th>delivery_time</th><th>order_status</th><th>date_timestamp</th></tr></thead><tbody><tr><td>O001</td><td>C001</td><td>R001</td><td>D001</td><td>450.75</td><td>32</td><td>Delivered</td><td>2025-08-01T12:15:00.000Z</td></tr><tr><td>O002</td><td>C005</td><td>R004</td><td>D004</td><td>799.5</td><td>40</td><td>Delivered</td><td>2025-08-01T13:05:00.000Z</td></tr><tr><td>O003</td><td>C010</td><td>R007</td><td>D009</td><td>299.0</td><td>25</td><td>Cancelled</td><td>2025-08-01T14:10:00.000Z</td></tr><tr><td>O004</td><td>C012</td><td>R002</td><td>D002</td><td>560.2</td><td>30</td><td>Delivered</td><td>2025-08-01T18:45:00.000Z</td></tr><tr><td>O005</td><td>C015</td><td>R003</td><td>D003</td><td>999.99</td><td>55</td><td>Delivered</td><td>2025-08-02T12:00:00.000Z</td></tr></tbody></table></div>"
      ]
     },
     "metadata": {
      "application/vnd.databricks.v1+output": {
       "addedWidgets": {},
       "aggData": [],
       "aggError": "",
       "aggOverflow": false,
       "aggSchema": [],
       "aggSeriesLimitReached": false,
       "aggType": "",
       "arguments": {},
       "columnCustomDisplayInfos": {},
       "data": [
        [
         "O001",
         "C001",
         "R001",
         "D001",
         450.75,
         32,
         "Delivered",
         "2025-08-01T12:15:00.000Z"
        ],
        [
         "O002",
         "C005",
         "R004",
         "D004",
         799.5,
         40,
         "Delivered",
         "2025-08-01T13:05:00.000Z"
        ],
        [
         "O003",
         "C010",
         "R007",
         "D009",
         299.0,
         25,
         "Cancelled",
         "2025-08-01T14:10:00.000Z"
        ],
        [
         "O004",
         "C012",
         "R002",
         "D002",
         560.2,
         30,
         "Delivered",
         "2025-08-01T18:45:00.000Z"
        ],
        [
         "O005",
         "C015",
         "R003",
         "D003",
         999.99,
         55,
         "Delivered",
         "2025-08-02T12:00:00.000Z"
        ]
       ],
       "datasetInfos": [],
       "dbfsResultPath": null,
       "isJsonSchema": true,
       "metadata": {},
       "overflow": false,
       "plotOptions": {
        "customPlotOptions": {},
        "displayType": "table",
        "pivotAggregation": null,
        "pivotColumns": null,
        "xColumns": null,
        "yColumns": null
       },
       "removedWidgets": [],
       "schema": [
        {
         "metadata": "{}",
         "name": "order_id",
         "type": "\"string\""
        },
        {
         "metadata": "{}",
         "name": "customer_id",
         "type": "\"string\""
        },
        {
         "metadata": "{}",
         "name": "restaurant_id",
         "type": "\"string\""
        },
        {
         "metadata": "{}",
         "name": "delivery_partner_id",
         "type": "\"string\""
        },
        {
         "metadata": "{}",
         "name": "order_value",
         "type": "\"double\""
        },
        {
         "metadata": "{}",
         "name": "delivery_time",
         "type": "\"integer\""
        },
        {
         "metadata": "{}",
         "name": "order_status",
         "type": "\"string\""
        },
        {
         "metadata": "{}",
         "name": "date_timestamp",
         "type": "\"timestamp\""
        }
       ],
       "type": "table"
      }
     },
     "output_type": "display_data"
    }
   ],
   "source": [
    "customers_df = spark.read.csv(\"/Volumes/workspace/default/food_delivery/customers.csv\", header=True, inferSchema=True)\n",
    "restaurants_df = spark.read.csv(\"/Volumes/workspace/default/food_delivery/orders.csv\", header=True, inferSchema=True)\n",
    "delivery_partners_df = spark.read.csv(\"/Volumes/workspace/default/food_delivery/delivery_partners.csv\", header=True, inferSchema=True)\n",
    "orders_df = spark.read.csv(\"/Volumes/workspace/default/food_delivery/orders.csv\", header=True, inferSchema=True)\n",
    "\n",
    "display(customers_df.limit(5))\n",
    "display(restaurants_df.limit(5))\n",
    "display(delivery_partners_df.limit(5))\n",
    "display(orders_df.limit(5))\n"
   ]
  },
  {
   "cell_type": "code",
   "execution_count": 0,
   "metadata": {
    "application/vnd.databricks.v1+cell": {
     "cellMetadata": {
      "byteLimit": 2048000,
      "rowLimit": 10000
     },
     "inputWidgets": {},
     "nuid": "aee17c29-e3ac-4e76-9478-a3c2eca2c6b2",
     "showTitle": false,
     "tableResultSettingsMap": {},
     "title": ""
    }
   },
   "outputs": [
    {
     "output_type": "display_data",
     "data": {
      "text/html": [
       "<style scoped>\n",
       "  .table-result-container {\n",
       "    max-height: 300px;\n",
       "    overflow: auto;\n",
       "  }\n",
       "  table, th, td {\n",
       "    border: 1px solid black;\n",
       "    border-collapse: collapse;\n",
       "  }\n",
       "  th, td {\n",
       "    padding: 5px;\n",
       "  }\n",
       "  th {\n",
       "    text-align: left;\n",
       "  }\n",
       "</style><div class='table-result-container'><table class='table-result'><thead style='background-color: white'><tr><th>customer_id</th><th>total_order_value</th></tr></thead><tbody><tr><td>C035</td><td>1299.0</td></tr><tr><td>C015</td><td>999.99</td></tr><tr><td>C013</td><td>999.5</td></tr><tr><td>C018</td><td>990.0</td></tr><tr><td>C038</td><td>955.4</td></tr><tr><td>C041</td><td>935.9</td></tr><tr><td>C045</td><td>890.9</td></tr><tr><td>C024</td><td>875.4</td></tr><tr><td>C019</td><td>875.0</td></tr><tr><td>C017</td><td>870.5</td></tr><tr><td>C049</td><td>865.0</td></tr><tr><td>C048</td><td>860.3</td></tr><tr><td>C034</td><td>810.2</td></tr><tr><td>C005</td><td>799.5</td></tr><tr><td>C036</td><td>790.0</td></tr><tr><td>C014</td><td>750.6</td></tr><tr><td>C044</td><td>740.6</td></tr><tr><td>C027</td><td>720.3</td></tr><tr><td>C026</td><td>715.4</td></tr><tr><td>C007</td><td>680.4</td></tr><tr><td>C037</td><td>675.75</td></tr><tr><td>C006</td><td>660.2</td></tr><tr><td>C008</td><td>650.1</td></tr><tr><td>C032</td><td>620.75</td></tr><tr><td>C029</td><td>605.75</td></tr><tr><td>C047</td><td>590.2</td></tr><tr><td>C046</td><td>570.4</td></tr><tr><td>C012</td><td>560.2</td></tr><tr><td>C011</td><td>545.25</td></tr><tr><td>C009</td><td>540.1</td></tr><tr><td>C025</td><td>520.8</td></tr><tr><td>C002</td><td>475.0</td></tr><tr><td>C001</td><td>450.75</td></tr><tr><td>C033</td><td>445.9</td></tr><tr><td>C039</td><td>410.5</td></tr><tr><td>C030</td><td>400.6</td></tr><tr><td>C003</td><td>395.75</td></tr><tr><td>C028</td><td>350.25</td></tr><tr><td>C022</td><td>340.25</td></tr><tr><td>C023</td><td>330.6</td></tr><tr><td>C042</td><td>325.1</td></tr><tr><td>C050</td><td>310.75</td></tr><tr><td>C010</td><td>299.0</td></tr><tr><td>C043</td><td>280.6</td></tr><tr><td>C031</td><td>280.25</td></tr><tr><td>C004</td><td>270.75</td></tr><tr><td>C021</td><td>260.75</td></tr><tr><td>C020</td><td>230.0</td></tr><tr><td>C016</td><td>225.75</td></tr><tr><td>C040</td><td>215.5</td></tr></tbody></table></div>"
      ]
     },
     "metadata": {
      "application/vnd.databricks.v1+output": {
       "addedWidgets": {},
       "aggData": [],
       "aggError": "",
       "aggOverflow": false,
       "aggSchema": [],
       "aggSeriesLimitReached": false,
       "aggType": "",
       "arguments": {},
       "columnCustomDisplayInfos": {},
       "data": [
        [
         "C035",
         1299.0
        ],
        [
         "C015",
         999.99
        ],
        [
         "C013",
         999.5
        ],
        [
         "C018",
         990.0
        ],
        [
         "C038",
         955.4
        ],
        [
         "C041",
         935.9
        ],
        [
         "C045",
         890.9
        ],
        [
         "C024",
         875.4
        ],
        [
         "C019",
         875.0
        ],
        [
         "C017",
         870.5
        ],
        [
         "C049",
         865.0
        ],
        [
         "C048",
         860.3
        ],
        [
         "C034",
         810.2
        ],
        [
         "C005",
         799.5
        ],
        [
         "C036",
         790.0
        ],
        [
         "C014",
         750.6
        ],
        [
         "C044",
         740.6
        ],
        [
         "C027",
         720.3
        ],
        [
         "C026",
         715.4
        ],
        [
         "C007",
         680.4
        ],
        [
         "C037",
         675.75
        ],
        [
         "C006",
         660.2
        ],
        [
         "C008",
         650.1
        ],
        [
         "C032",
         620.75
        ],
        [
         "C029",
         605.75
        ],
        [
         "C047",
         590.2
        ],
        [
         "C046",
         570.4
        ],
        [
         "C012",
         560.2
        ],
        [
         "C011",
         545.25
        ],
        [
         "C009",
         540.1
        ],
        [
         "C025",
         520.8
        ],
        [
         "C002",
         475.0
        ],
        [
         "C001",
         450.75
        ],
        [
         "C033",
         445.9
        ],
        [
         "C039",
         410.5
        ],
        [
         "C030",
         400.6
        ],
        [
         "C003",
         395.75
        ],
        [
         "C028",
         350.25
        ],
        [
         "C022",
         340.25
        ],
        [
         "C023",
         330.6
        ],
        [
         "C042",
         325.1
        ],
        [
         "C050",
         310.75
        ],
        [
         "C010",
         299.0
        ],
        [
         "C043",
         280.6
        ],
        [
         "C031",
         280.25
        ],
        [
         "C004",
         270.75
        ],
        [
         "C021",
         260.75
        ],
        [
         "C020",
         230.0
        ],
        [
         "C016",
         225.75
        ],
        [
         "C040",
         215.5
        ]
       ],
       "datasetInfos": [],
       "dbfsResultPath": null,
       "isJsonSchema": true,
       "metadata": {},
       "overflow": false,
       "plotOptions": {
        "customPlotOptions": {},
        "displayType": "table",
        "pivotAggregation": null,
        "pivotColumns": null,
        "xColumns": null,
        "yColumns": null
       },
       "removedWidgets": [],
       "schema": [
        {
         "metadata": "{}",
         "name": "customer_id",
         "type": "\"string\""
        },
        {
         "metadata": "{}",
         "name": "total_order_value",
         "type": "\"double\""
        }
       ],
       "type": "table"
      }
     },
     "output_type": "display_data"
    },
    {
     "output_type": "display_data",
     "data": {
      "text/plain": [
       "Databricks visualization. Run in Databricks to view."
      ]
     },
     "metadata": {
      "application/vnd.databricks.v1.subcommand+json": {
       "baseErrorDetails": null,
       "bindings": {},
       "collapsed": false,
       "command": "%python\n__backend_agg_display_orig = display\n__backend_agg_dfs = []\ndef __backend_agg_display_new(df):\n    __backend_agg_df_modules = [\"pandas.core.frame\", \"databricks.koalas.frame\", \"pyspark.sql.dataframe\", \"pyspark.pandas.frame\", \"pyspark.sql.connect.dataframe\"]\n    if (type(df).__module__ in __backend_agg_df_modules and type(df).__name__ == 'DataFrame') or isinstance(df, list):\n        __backend_agg_dfs.append(df)\n\ndisplay = __backend_agg_display_new\n\ndef __backend_agg_user_code_fn():\n    import base64\n    exec(base64.standard_b64decode(\"ZnJvbSBweXNwYXJrLnNxbCBpbXBvcnQgU3BhcmtTZXNzaW9uCmZyb20gcHlzcGFyay5zcWwuZnVuY3Rpb25zIGltcG9ydCBzdW0KCiMgSW5pdGlhbGl6ZSBTcGFyayBTZXNzaW9uIChpZiBub3QgYWxyZWFkeSBkb25lKQpzcGFyayA9IFNwYXJrU2Vzc2lvbi5idWlsZGVyLmFwcE5hbWUoIkZvb2REZWxpdmVyeUFuYWx5c2lzIikuZ2V0T3JDcmVhdGUoKQoKIyBMb2FkIHRoZSBvcmRlcnMuY3N2IGZpbGUgZnJvbSB0aGUgRGF0YWJyaWNrcyBmaWxlIHN5c3RlbSAoREJGUykKZGZfb3JkZXJzID0gc3BhcmsucmVhZC5jc3YoIi9Wb2x1bWVzL3dvcmtzcGFjZS9kZWZhdWx0L2Zvb2RfZGVsaXZlcnkvb3JkZXJzLmNzdiIsIGhlYWRlcj1UcnVlLCBpbmZlclNjaGVtYT1UcnVlKQoKIyBDb21wdXRlIHRoZSB0b3RhbCBvcmRlciB2YWx1ZSBmb3IgZWFjaCBjdXN0b21lcgp0b3RhbF9vcmRlcl92YWx1ZV9wZXJfY3VzdG9tZXIgPSBkZl9vcmRlcnMuZ3JvdXBCeSgiY3VzdG9tZXJfaWQiKSBcCiAgICAuYWdnKHN1bSgib3JkZXJfdmFsdWUiKS5hbGlhcygidG90YWxfb3JkZXJfdmFsdWUiKSkgXAogICAgLnNvcnQoInRvdGFsX29yZGVyX3ZhbHVlIiwgYXNjZW5kaW5nPUZhbHNlKQoKIyBEaXNwbGF5IHRoZSByZXN1bHQKdG90YWxfb3JkZXJfdmFsdWVfcGVyX2N1c3RvbWVyLmRpc3BsYXkoKQ==\").decode())\n\ntry:\n    # run user code\n    __backend_agg_user_code_fn()\n\n    #reset display function\n    display = __backend_agg_display_orig\n\n    if len(__backend_agg_dfs) > 0:\n        # create a temp view\n        if type(__backend_agg_dfs[0]).__module__ == \"databricks.koalas.frame\":\n            # koalas dataframe\n            __backend_agg_dfs[0].to_spark().createOrReplaceTempView(\"DatabricksView8fa8a8e\")\n        elif type(__backend_agg_dfs[0]).__module__ == \"pandas.core.frame\" or isinstance(__backend_agg_dfs[0], list):\n            # pandas dataframe\n            spark.createDataFrame(__backend_agg_dfs[0]).createOrReplaceTempView(\"DatabricksView8fa8a8e\")\n        else:\n            __backend_agg_dfs[0].createOrReplaceTempView(\"DatabricksView8fa8a8e\")\n        #run backend agg\n        display(spark.sql(\"\"\"WITH q AS (select * from DatabricksView8fa8a8e) SELECT `customer_id`,`total_order_value` FROM q GROUP BY `customer_id`,`total_order_value`\"\"\"))\n    else:\n        displayHTML(\"dataframe no longer exists. If you're using dataframe.display(), use display(dataframe) instead.\")\n\n\nfinally:\n    spark.sql(\"drop view if exists DatabricksView8fa8a8e\")\n    display = __backend_agg_display_orig\n    del __backend_agg_display_new\n    del __backend_agg_display_orig\n    del __backend_agg_dfs\n    del __backend_agg_user_code_fn\n\n",
       "commandTitle": "Visualization 1",
       "commandType": "auto",
       "commandVersion": 0,
       "commentThread": [],
       "commentsVisible": false,
       "contentSha256Hex": null,
       "customPlotOptions": {
        "redashChart": [
         {
          "key": "type",
          "value": "CHART"
         },
         {
          "key": "options",
          "value": {
           "alignYAxesAtZero": true,
           "coefficient": 1,
           "columnConfigurationMap": {
            "x": {
             "column": "customer_id",
             "id": "column_188f7c60278"
            },
            "y": [
             {
              "column": "total_order_value",
              "id": "column_188f7c60279"
             }
            ]
           },
           "dateTimeFormat": "DD/MM/YYYY HH:mm",
           "direction": {
            "type": "counterclockwise"
           },
           "error_y": {
            "type": "data",
            "visible": true
           },
           "globalSeriesType": "heatmap",
           "isAggregationOn": true,
           "legend": {
            "traceorder": "normal"
           },
           "missingValuesAsZero": true,
           "numBins": 10,
           "numberFormat": "0,0.[00000]",
           "percentFormat": "0[.]00%",
           "series": {
            "error_y": {
             "type": "data",
             "visible": true
            },
            "stacking": null
           },
           "seriesOptions": {
            "column_188f7c60277": {
             "type": "heatmap",
             "yAxis": 0
            },
            "column_188f7c60279": {
             "type": "heatmap",
             "yAxis": 0
            }
           },
           "showDataLabels": false,
           "sizemode": "diameter",
           "sortX": true,
           "sortY": true,
           "swappedAxes": false,
           "textFormat": "",
           "useAggregationsUi": true,
           "valuesOptions": {},
           "version": 2,
           "xAxis": {
            "labels": {
             "enabled": true
            },
            "type": "-"
           },
           "yAxis": [
            {
             "type": "-"
            },
            {
             "opposite": true,
             "type": "-"
            }
           ]
          }
         }
        ]
       },
       "datasetPreviewNameToCmdIdMap": {},
       "diffDeletes": [],
       "diffInserts": [],
       "displayType": "redashChart",
       "error": null,
       "errorDetails": null,
       "errorSummary": null,
       "errorTraceType": null,
       "finishTime": 0,
       "globalVars": {},
       "guid": "",
       "height": "auto",
       "hideCommandCode": false,
       "hideCommandResult": false,
       "iPythonMetadata": null,
       "inputWidgets": {},
       "isLockedInExamMode": false,
       "latestUser": "a user",
       "latestUserId": null,
       "listResultMetadata": null,
       "metadata": {},
       "nuid": "87df391c-43d9-47a2-85c5-4d67fd763498",
       "origId": 0,
       "parentHierarchy": [],
       "pivotAggregation": null,
       "pivotColumns": null,
       "position": 3.0,
       "resultDbfsErrorMessage": null,
       "resultDbfsStatus": "INLINED_IN_TREE",
       "results": null,
       "showCommandTitle": false,
       "startTime": 0,
       "state": "input",
       "streamStates": {},
       "subcommandOptions": {
        "queryPlan": {
         "groups": [
          {
           "column": "customer_id",
           "type": "column"
          },
          {
           "column": "total_order_value",
           "type": "column"
          }
         ],
         "selects": [
          {
           "column": "customer_id",
           "type": "column"
          },
          {
           "column": "total_order_value",
           "type": "column"
          }
         ]
        }
       },
       "submitTime": 0,
       "subtype": "tableResultSubCmd.visualization",
       "tableResultIndex": 0,
       "tableResultSettingsMap": {},
       "useConsistentColors": false,
       "version": "CommandV1",
       "width": "auto",
       "workflows": [],
       "xColumns": null,
       "yColumns": null
      }
     },
     "output_type": "display_data"
    }
   ],
   "source": [
    "from pyspark.sql import SparkSession\n",
    "from pyspark.sql.functions import sum\n",
    "\n",
    "# Initialize Spark Session (if not already done)\n",
    "spark = SparkSession.builder.appName(\"FoodDeliveryAnalysis\").getOrCreate()\n",
    "\n",
    "# Load the orders.csv file from the Databricks file system (DBFS)\n",
    "df_orders = spark.read.csv(\"/Volumes/workspace/default/food_delivery/orders.csv\", header=True, inferSchema=True)\n",
    "\n",
    "# Compute the total order value for each customer\n",
    "total_order_value_per_customer = df_orders.groupBy(\"customer_id\") \\\n",
    "    .agg(sum(\"order_value\").alias(\"total_order_value\")) \\\n",
    "    .sort(\"total_order_value\", ascending=False)\n",
    "\n",
    "# Display the result\n",
    "total_order_value_per_customer.display()"
   ]
  },
  {
   "cell_type": "markdown",
   "metadata": {
    "application/vnd.databricks.v1+cell": {
     "cellMetadata": {},
     "inputWidgets": {},
     "nuid": "3c8d5e55-67c2-4397-85cc-297297bd85ed",
     "showTitle": false,
     "tableResultSettingsMap": {},
     "title": ""
    }
   },
   "source": [
    "question 2"
   ]
  },
  {
   "cell_type": "code",
   "execution_count": 0,
   "metadata": {
    "application/vnd.databricks.v1+cell": {
     "cellMetadata": {
      "byteLimit": 2048000,
      "rowLimit": 10000
     },
     "inputWidgets": {},
     "nuid": "a3ff0d31-1afc-48d5-83ff-2217fef8b316",
     "showTitle": false,
     "tableResultSettingsMap": {},
     "title": ""
    }
   },
   "outputs": [
    {
     "output_type": "display_data",
     "data": {
      "text/html": [
       "<style scoped>\n",
       "  .table-result-container {\n",
       "    max-height: 300px;\n",
       "    overflow: auto;\n",
       "  }\n",
       "  table, th, td {\n",
       "    border: 1px solid black;\n",
       "    border-collapse: collapse;\n",
       "  }\n",
       "  th, td {\n",
       "    padding: 5px;\n",
       "  }\n",
       "  th {\n",
       "    text-align: left;\n",
       "  }\n",
       "</style><div class='table-result-container'><table class='table-result'><thead style='background-color: white'><tr><th>restaurant_id</th><th>average_delivery_time</th></tr></thead><tbody><tr><td>R006</td><td>65.0</td></tr><tr><td>R014</td><td>60.0</td></tr><tr><td>R034</td><td>58.0</td></tr><tr><td>R003</td><td>55.0</td></tr><tr><td>R027</td><td>55.0</td></tr><tr><td>R044</td><td>54.0</td></tr><tr><td>R022</td><td>52.0</td></tr><tr><td>R048</td><td>50.0</td></tr><tr><td>R005</td><td>50.0</td></tr><tr><td>R030</td><td>49.0</td></tr><tr><td>R017</td><td>48.0</td></tr><tr><td>R042</td><td>47.0</td></tr><tr><td>R036</td><td>46.0</td></tr><tr><td>R008</td><td>45.0</td></tr><tr><td>R019</td><td>44.0</td></tr><tr><td>R038</td><td>43.0</td></tr><tr><td>R050</td><td>42.0</td></tr><tr><td>R025</td><td>42.0</td></tr><tr><td>R046</td><td>41.0</td></tr><tr><td>R032</td><td>40.0</td></tr><tr><td>R004</td><td>40.0</td></tr><tr><td>R043</td><td>39.0</td></tr><tr><td>R013</td><td>38.0</td></tr><tr><td>R029</td><td>37.0</td></tr><tr><td>R033</td><td>36.0</td></tr><tr><td>R047</td><td>35.0</td></tr><tr><td>R039</td><td>34.0</td></tr><tr><td>R024</td><td>34.0</td></tr><tr><td>R015</td><td>33.0</td></tr><tr><td>R001</td><td>32.0</td></tr><tr><td>R041</td><td>32.0</td></tr><tr><td>R026</td><td>31.0</td></tr><tr><td>R009</td><td>31.0</td></tr><tr><td>R002</td><td>30.0</td></tr><tr><td>R031</td><td>29.0</td></tr><tr><td>R016</td><td>29.0</td></tr><tr><td>R011</td><td>28.0</td></tr><tr><td>R037</td><td>28.0</td></tr><tr><td>R020</td><td>27.0</td></tr><tr><td>R023</td><td>27.0</td></tr><tr><td>R045</td><td>26.0</td></tr><tr><td>R018</td><td>26.0</td></tr><tr><td>R007</td><td>25.0</td></tr><tr><td>R021</td><td>24.0</td></tr><tr><td>R049</td><td>24.0</td></tr><tr><td>R040</td><td>23.0</td></tr><tr><td>R028</td><td>22.0</td></tr><tr><td>R010</td><td>22.0</td></tr><tr><td>R035</td><td>21.0</td></tr><tr><td>R012</td><td>20.0</td></tr></tbody></table></div>"
      ]
     },
     "metadata": {
      "application/vnd.databricks.v1+output": {
       "addedWidgets": {},
       "aggData": [],
       "aggError": "",
       "aggOverflow": false,
       "aggSchema": [],
       "aggSeriesLimitReached": false,
       "aggType": "",
       "arguments": {},
       "columnCustomDisplayInfos": {},
       "data": [
        [
         "R006",
         65.0
        ],
        [
         "R014",
         60.0
        ],
        [
         "R034",
         58.0
        ],
        [
         "R003",
         55.0
        ],
        [
         "R027",
         55.0
        ],
        [
         "R044",
         54.0
        ],
        [
         "R022",
         52.0
        ],
        [
         "R048",
         50.0
        ],
        [
         "R005",
         50.0
        ],
        [
         "R030",
         49.0
        ],
        [
         "R017",
         48.0
        ],
        [
         "R042",
         47.0
        ],
        [
         "R036",
         46.0
        ],
        [
         "R008",
         45.0
        ],
        [
         "R019",
         44.0
        ],
        [
         "R038",
         43.0
        ],
        [
         "R050",
         42.0
        ],
        [
         "R025",
         42.0
        ],
        [
         "R046",
         41.0
        ],
        [
         "R032",
         40.0
        ],
        [
         "R004",
         40.0
        ],
        [
         "R043",
         39.0
        ],
        [
         "R013",
         38.0
        ],
        [
         "R029",
         37.0
        ],
        [
         "R033",
         36.0
        ],
        [
         "R047",
         35.0
        ],
        [
         "R039",
         34.0
        ],
        [
         "R024",
         34.0
        ],
        [
         "R015",
         33.0
        ],
        [
         "R001",
         32.0
        ],
        [
         "R041",
         32.0
        ],
        [
         "R026",
         31.0
        ],
        [
         "R009",
         31.0
        ],
        [
         "R002",
         30.0
        ],
        [
         "R031",
         29.0
        ],
        [
         "R016",
         29.0
        ],
        [
         "R011",
         28.0
        ],
        [
         "R037",
         28.0
        ],
        [
         "R020",
         27.0
        ],
        [
         "R023",
         27.0
        ],
        [
         "R045",
         26.0
        ],
        [
         "R018",
         26.0
        ],
        [
         "R007",
         25.0
        ],
        [
         "R021",
         24.0
        ],
        [
         "R049",
         24.0
        ],
        [
         "R040",
         23.0
        ],
        [
         "R028",
         22.0
        ],
        [
         "R010",
         22.0
        ],
        [
         "R035",
         21.0
        ],
        [
         "R012",
         20.0
        ]
       ],
       "datasetInfos": [],
       "dbfsResultPath": null,
       "isJsonSchema": true,
       "metadata": {},
       "overflow": false,
       "plotOptions": {
        "customPlotOptions": {},
        "displayType": "table",
        "pivotAggregation": null,
        "pivotColumns": null,
        "xColumns": null,
        "yColumns": null
       },
       "removedWidgets": [],
       "schema": [
        {
         "metadata": "{}",
         "name": "restaurant_id",
         "type": "\"string\""
        },
        {
         "metadata": "{}",
         "name": "average_delivery_time",
         "type": "\"double\""
        }
       ],
       "type": "table"
      }
     },
     "output_type": "display_data"
    },
    {
     "output_type": "display_data",
     "data": {
      "text/plain": [
       "Databricks visualization. Run in Databricks to view."
      ]
     },
     "metadata": {
      "application/vnd.databricks.v1.subcommand+json": {
       "baseErrorDetails": null,
       "bindings": {},
       "collapsed": false,
       "command": "%python\n__backend_agg_display_orig = display\n__backend_agg_dfs = []\ndef __backend_agg_display_new(df):\n    __backend_agg_df_modules = [\"pandas.core.frame\", \"databricks.koalas.frame\", \"pyspark.sql.dataframe\", \"pyspark.pandas.frame\", \"pyspark.sql.connect.dataframe\"]\n    if (type(df).__module__ in __backend_agg_df_modules and type(df).__name__ == 'DataFrame') or isinstance(df, list):\n        __backend_agg_dfs.append(df)\n\ndisplay = __backend_agg_display_new\n\ndef __backend_agg_user_code_fn():\n    import base64\n    exec(base64.standard_b64decode(\"ZnJvbSBweXNwYXJrLnNxbCBpbXBvcnQgU3BhcmtTZXNzaW9uCmZyb20gcHlzcGFyay5zcWwuZnVuY3Rpb25zIGltcG9ydCBhdmcKCiMgSW5pdGlhbGl6ZSBTcGFyayBTZXNzaW9uIChpZiBub3QgYWxyZWFkeSBkb25lKQpzcGFyayA9IFNwYXJrU2Vzc2lvbi5idWlsZGVyLmFwcE5hbWUoIkZvb2REZWxpdmVyeUFuYWx5c2lzIikuZ2V0T3JDcmVhdGUoKQoKIyBMb2FkIHRoZSBvcmRlcnMuY3N2IGZpbGUgZnJvbSB0aGUgRGF0YWJyaWNrcyBmaWxlIHN5c3RlbSAoREJGUykKZGZfb3JkZXJzID0gc3BhcmsucmVhZC5jc3YoIi9Wb2x1bWVzL3dvcmtzcGFjZS9kZWZhdWx0L2Zvb2RfZGVsaXZlcnkvb3JkZXJzLmNzdiIsIGhlYWRlcj1UcnVlLCBpbmZlclNjaGVtYT1UcnVlKQoKIyBDYWxjdWxhdGUgdGhlIGF2ZXJhZ2UgZGVsaXZlcnkgdGltZSBmb3IgZWFjaCByZXN0YXVyYW50CmF2Z19kZWxpdmVyeV90aW1lX3Blcl9yZXN0YXVyYW50ID0gZGZfb3JkZXJzLmdyb3VwQnkoInJlc3RhdXJhbnRfaWQiKSBcCiAgICAuYWdnKGF2ZygiZGVsaXZlcnlfdGltZSIpLmFsaWFzKCJhdmVyYWdlX2RlbGl2ZXJ5X3RpbWUiKSkgXAogICAgLnNvcnQoImF2ZXJhZ2VfZGVsaXZlcnlfdGltZSIsIGFzY2VuZGluZz1GYWxzZSkKCiMgRGlzcGxheSB0aGUgcmVzdWx0CmF2Z19kZWxpdmVyeV90aW1lX3Blcl9yZXN0YXVyYW50LmRpc3BsYXkoKQ==\").decode())\n\ntry:\n    # run user code\n    __backend_agg_user_code_fn()\n\n    #reset display function\n    display = __backend_agg_display_orig\n\n    if len(__backend_agg_dfs) > 0:\n        # create a temp view\n        if type(__backend_agg_dfs[0]).__module__ == \"databricks.koalas.frame\":\n            # koalas dataframe\n            __backend_agg_dfs[0].to_spark().createOrReplaceTempView(\"DatabricksView9cc5aee\")\n        elif type(__backend_agg_dfs[0]).__module__ == \"pandas.core.frame\" or isinstance(__backend_agg_dfs[0], list):\n            # pandas dataframe\n            spark.createDataFrame(__backend_agg_dfs[0]).createOrReplaceTempView(\"DatabricksView9cc5aee\")\n        else:\n            __backend_agg_dfs[0].createOrReplaceTempView(\"DatabricksView9cc5aee\")\n        #run backend agg\n        display(spark.sql(\"\"\"WITH q AS (select * from DatabricksView9cc5aee) SELECT `restaurant_id`,`average_delivery_time` FROM q\"\"\"))\n    else:\n        displayHTML(\"dataframe no longer exists. If you're using dataframe.display(), use display(dataframe) instead.\")\n\n\nfinally:\n    spark.sql(\"drop view if exists DatabricksView9cc5aee\")\n    display = __backend_agg_display_orig\n    del __backend_agg_display_new\n    del __backend_agg_display_orig\n    del __backend_agg_dfs\n    del __backend_agg_user_code_fn\n\n",
       "commandTitle": "Visualization 1",
       "commandType": "auto",
       "commandVersion": 0,
       "commentThread": [],
       "commentsVisible": false,
       "contentSha256Hex": null,
       "customPlotOptions": {
        "redashChart": [
         {
          "key": "type",
          "value": "CHART"
         },
         {
          "key": "options",
          "value": {
           "alignYAxesAtZero": true,
           "coefficient": 1,
           "columnConfigurationMap": {
            "x": {
             "column": "restaurant_id",
             "id": "column_188f7c60328"
            },
            "y": [
             {
              "column": "average_delivery_time",
              "id": "column_188f7c60329"
             }
            ]
           },
           "dateTimeFormat": "DD/MM/YYYY HH:mm",
           "direction": {
            "type": "counterclockwise"
           },
           "error_y": {
            "type": "data",
            "visible": true
           },
           "globalSeriesType": "scatter",
           "legend": {
            "traceorder": "normal"
           },
           "missingValuesAsZero": true,
           "numberFormat": "0,0.[00000]",
           "percentFormat": "0[.]00%",
           "series": {
            "error_y": {
             "type": "data",
             "visible": true
            },
            "stacking": null
           },
           "seriesOptions": {
            "average_delivery_time": {
             "type": "scatter",
             "yAxis": 0
            }
           },
           "showDataLabels": false,
           "sizemode": "diameter",
           "sortX": true,
           "sortY": true,
           "swappedAxes": false,
           "textFormat": "",
           "useAggregationsUi": true,
           "valuesOptions": {},
           "version": 2,
           "xAxis": {
            "labels": {
             "enabled": true
            },
            "type": "-"
           },
           "yAxis": [
            {
             "type": "-"
            },
            {
             "opposite": true,
             "type": "-"
            }
           ]
          }
         }
        ]
       },
       "datasetPreviewNameToCmdIdMap": {},
       "diffDeletes": [],
       "diffInserts": [],
       "displayType": "redashChart",
       "error": null,
       "errorDetails": null,
       "errorSummary": null,
       "errorTraceType": null,
       "finishTime": 0,
       "globalVars": {},
       "guid": "",
       "height": "auto",
       "hideCommandCode": false,
       "hideCommandResult": false,
       "iPythonMetadata": null,
       "inputWidgets": {},
       "isLockedInExamMode": false,
       "latestUser": "a user",
       "latestUserId": null,
       "listResultMetadata": null,
       "metadata": {},
       "nuid": "d5fd7ff0-9406-44cf-be35-3b122b44e5b2",
       "origId": 0,
       "parentHierarchy": [],
       "pivotAggregation": null,
       "pivotColumns": null,
       "position": 5.0,
       "resultDbfsErrorMessage": null,
       "resultDbfsStatus": "INLINED_IN_TREE",
       "results": null,
       "showCommandTitle": false,
       "startTime": 0,
       "state": "input",
       "streamStates": {},
       "subcommandOptions": {
        "queryPlan": {
         "selects": [
          {
           "column": "restaurant_id",
           "type": "column"
          },
          {
           "column": "average_delivery_time",
           "type": "column"
          }
         ]
        }
       },
       "submitTime": 0,
       "subtype": "tableResultSubCmd.visualization",
       "tableResultIndex": 0,
       "tableResultSettingsMap": {},
       "useConsistentColors": false,
       "version": "CommandV1",
       "width": "auto",
       "workflows": [],
       "xColumns": null,
       "yColumns": null
      }
     },
     "output_type": "display_data"
    }
   ],
   "source": [
    "from pyspark.sql import SparkSession\n",
    "from pyspark.sql.functions import avg\n",
    "\n",
    "# Initialize Spark Session (if not already done)\n",
    "spark = SparkSession.builder.appName(\"FoodDeliveryAnalysis\").getOrCreate()\n",
    "\n",
    "# Load the orders.csv file from the Databricks file system (DBFS)\n",
    "df_orders = spark.read.csv(\"/Volumes/workspace/default/food_delivery/orders.csv\", header=True, inferSchema=True)\n",
    "\n",
    "# Calculate the average delivery time for each restaurant\n",
    "avg_delivery_time_per_restaurant = df_orders.groupBy(\"restaurant_id\") \\\n",
    "    .agg(avg(\"delivery_time\").alias(\"average_delivery_time\")) \\\n",
    "    .sort(\"average_delivery_time\", ascending=False)\n",
    "\n",
    "# Display the result\n",
    "avg_delivery_time_per_restaurant.display()"
   ]
  },
  {
   "cell_type": "code",
   "execution_count": 0,
   "metadata": {
    "application/vnd.databricks.v1+cell": {
     "cellMetadata": {
      "byteLimit": 2048000,
      "rowLimit": 10000
     },
     "inputWidgets": {},
     "nuid": "27b29d36-ea05-4a97-a8c5-7bee92a73a85",
     "showTitle": false,
     "tableResultSettingsMap": {},
     "title": ""
    }
   },
   "outputs": [
    {
     "output_type": "display_data",
     "data": {
      "text/html": [
       "<style scoped>\n",
       "  .table-result-container {\n",
       "    max-height: 300px;\n",
       "    overflow: auto;\n",
       "  }\n",
       "  table, th, td {\n",
       "    border: 1px solid black;\n",
       "    border-collapse: collapse;\n",
       "  }\n",
       "  th, td {\n",
       "    padding: 5px;\n",
       "  }\n",
       "  th {\n",
       "    text-align: left;\n",
       "  }\n",
       "</style><div class='table-result-container'><table class='table-result'><thead style='background-color: white'><tr><th>customer_id</th><th>total_cancellations</th></tr></thead><tbody><tr><td>C021</td><td>1</td></tr><tr><td>C030</td><td>1</td></tr><tr><td>C016</td><td>1</td></tr><tr><td>C042</td><td>1</td></tr><tr><td>C010</td><td>1</td></tr><tr><td>C020</td><td>1</td></tr><tr><td>C050</td><td>1</td></tr><tr><td>C031</td><td>1</td></tr><tr><td>C043</td><td>1</td></tr></tbody></table></div>"
      ]
     },
     "metadata": {
      "application/vnd.databricks.v1+output": {
       "addedWidgets": {},
       "aggData": [],
       "aggError": "",
       "aggOverflow": false,
       "aggSchema": [],
       "aggSeriesLimitReached": false,
       "aggType": "",
       "arguments": {},
       "columnCustomDisplayInfos": {},
       "data": [
        [
         "C021",
         1
        ],
        [
         "C030",
         1
        ],
        [
         "C016",
         1
        ],
        [
         "C042",
         1
        ],
        [
         "C010",
         1
        ],
        [
         "C020",
         1
        ],
        [
         "C050",
         1
        ],
        [
         "C031",
         1
        ],
        [
         "C043",
         1
        ]
       ],
       "datasetInfos": [],
       "dbfsResultPath": null,
       "isJsonSchema": true,
       "metadata": {},
       "overflow": false,
       "plotOptions": {
        "customPlotOptions": {},
        "displayType": "table",
        "pivotAggregation": null,
        "pivotColumns": null,
        "xColumns": null,
        "yColumns": null
       },
       "removedWidgets": [],
       "schema": [
        {
         "metadata": "{}",
         "name": "customer_id",
         "type": "\"string\""
        },
        {
         "metadata": "{}",
         "name": "total_cancellations",
         "type": "\"long\""
        }
       ],
       "type": "table"
      }
     },
     "output_type": "display_data"
    },
    {
     "output_type": "display_data",
     "data": {
      "text/plain": [
       "Databricks visualization. Run in Databricks to view."
      ]
     },
     "metadata": {
      "application/vnd.databricks.v1.subcommand+json": {
       "baseErrorDetails": null,
       "bindings": {},
       "collapsed": false,
       "command": "%python\n__backend_agg_display_orig = display\n__backend_agg_dfs = []\ndef __backend_agg_display_new(df):\n    __backend_agg_df_modules = [\"pandas.core.frame\", \"databricks.koalas.frame\", \"pyspark.sql.dataframe\", \"pyspark.pandas.frame\", \"pyspark.sql.connect.dataframe\"]\n    if (type(df).__module__ in __backend_agg_df_modules and type(df).__name__ == 'DataFrame') or isinstance(df, list):\n        __backend_agg_dfs.append(df)\n\ndisplay = __backend_agg_display_new\n\ndef __backend_agg_user_code_fn():\n    import base64\n    exec(base64.standard_b64decode(\"ZnJvbSBweXNwYXJrLnNxbCBpbXBvcnQgU3BhcmtTZXNzaW9uCgojIEluaXRpYWxpemUgU3BhcmsgU2Vzc2lvbgpzcGFyayA9IFNwYXJrU2Vzc2lvbi5idWlsZGVyLmFwcE5hbWUoIkZyZXF1ZW50Q2FuY2VsbGF0aW9ucyIpLmdldE9yQ3JlYXRlKCkKCiMgTG9hZCB0aGUgb3JkZXJzLmNzdiBmaWxlIGZyb20gdGhlIERhdGFicmlja3MgZmlsZSBzeXN0ZW0gKERCRlMpCmRmX29yZGVycyA9IHNwYXJrLnJlYWQuY3N2KCIvVm9sdW1lcy93b3Jrc3BhY2UvZGVmYXVsdC9mb29kX2RlbGl2ZXJ5L29yZGVycy5jc3YiLCBoZWFkZXI9VHJ1ZSwgaW5mZXJTY2hlbWE9VHJ1ZSkKCiMgUmVnaXN0ZXIgdGhlIERhdGFGcmFtZSBhcyBhIHRlbXBvcmFyeSBTUUwgdmlldwpkZl9vcmRlcnMuY3JlYXRlT3JSZXBsYWNlVGVtcFZpZXcoIm9yZGVycyIpCgojIFVzZSBQeVNwYXJrIFNRTCB0byBmaW5kIGN1c3RvbWVycyB3aXRoIHRoZSBtb3N0IGNhbmNlbGxhdGlvbnMKc3FsX3F1ZXJ5X2NhbmNlbGxhdGlvbnMgPSAiIiIKU0VMRUNUCiAgICBjdXN0b21lcl9pZCwKICAgIENPVU5UKCopIEFTIHRvdGFsX2NhbmNlbGxhdGlvbnMKRlJPTQogICAgb3JkZXJzCldIRVJFCiAgICBvcmRlcl9zdGF0dXMgPSAnQ2FuY2VsbGVkJwpHUk9VUCBCWQogICAgY3VzdG9tZXJfaWQKT1JERVIgQlkKICAgIHRvdGFsX2NhbmNlbGxhdGlvbnMgREVTQwoiIiIKCiMgRXhlY3V0ZSB0aGUgU1FMIHF1ZXJ5IGFuZCBzaG93IHRoZSByZXN1bHQKZnJlcXVlbnRfY2FuY2VsbGF0aW9ucyA9IHNwYXJrLnNxbChzcWxfcXVlcnlfY2FuY2VsbGF0aW9ucykKZGlzcGxheShmcmVxdWVudF9jYW5jZWxsYXRpb25zKQ==\").decode())\n\ntry:\n    # run user code\n    __backend_agg_user_code_fn()\n\n    #reset display function\n    display = __backend_agg_display_orig\n\n    if len(__backend_agg_dfs) > 0:\n        # create a temp view\n        if type(__backend_agg_dfs[0]).__module__ == \"databricks.koalas.frame\":\n            # koalas dataframe\n            __backend_agg_dfs[0].to_spark().createOrReplaceTempView(\"DatabricksView1c5c46e\")\n        elif type(__backend_agg_dfs[0]).__module__ == \"pandas.core.frame\" or isinstance(__backend_agg_dfs[0], list):\n            # pandas dataframe\n            spark.createDataFrame(__backend_agg_dfs[0]).createOrReplaceTempView(\"DatabricksView1c5c46e\")\n        else:\n            __backend_agg_dfs[0].createOrReplaceTempView(\"DatabricksView1c5c46e\")\n        #run backend agg\n        display(spark.sql(\"\"\"WITH q AS (select * from DatabricksView1c5c46e) SELECT `customer_id`,SUM(`total_cancellations`) `column_188f7c60259` FROM q GROUP BY `customer_id`\"\"\"))\n    else:\n        displayHTML(\"dataframe no longer exists. If you're using dataframe.display(), use display(dataframe) instead.\")\n\n\nfinally:\n    spark.sql(\"drop view if exists DatabricksView1c5c46e\")\n    display = __backend_agg_display_orig\n    del __backend_agg_display_new\n    del __backend_agg_display_orig\n    del __backend_agg_dfs\n    del __backend_agg_user_code_fn\n\n",
       "commandTitle": "Visualization 1",
       "commandType": "auto",
       "commandVersion": 0,
       "commentThread": [],
       "commentsVisible": false,
       "contentSha256Hex": null,
       "customPlotOptions": {
        "redashChart": [
         {
          "key": "type",
          "value": "CHART"
         },
         {
          "key": "options",
          "value": {
           "alignYAxesAtZero": true,
           "coefficient": 1,
           "columnConfigurationMap": {
            "x": {
             "column": "customer_id",
             "id": "column_188f7c60258"
            },
            "y": [
             {
              "column": "total_cancellations",
              "id": "column_188f7c60259",
              "transform": "SUM"
             }
            ]
           },
           "dateTimeFormat": "DD/MM/YYYY HH:mm",
           "direction": {
            "type": "counterclockwise"
           },
           "error_y": {
            "type": "data",
            "visible": true
           },
           "globalSeriesType": "pie",
           "legend": {
            "traceorder": "normal"
           },
           "missingValuesAsZero": true,
           "numberFormat": "0,0.[00000]",
           "percentFormat": "0[.]00%",
           "series": {
            "error_y": {
             "type": "data",
             "visible": true
            },
            "stacking": null
           },
           "seriesOptions": {
            "column_188f7c60259": {
             "name": "total_cancellations",
             "type": "pie",
             "yAxis": 0
            }
           },
           "showDataLabels": true,
           "sizemode": "diameter",
           "sortX": true,
           "sortY": true,
           "swappedAxes": false,
           "textFormat": "",
           "useAggregationsUi": true,
           "valuesOptions": {},
           "version": 2,
           "xAxis": {
            "labels": {
             "enabled": true
            },
            "type": "-"
           },
           "yAxis": [
            {
             "type": "-"
            },
            {
             "opposite": true,
             "type": "-"
            }
           ]
          }
         }
        ]
       },
       "datasetPreviewNameToCmdIdMap": {},
       "diffDeletes": [],
       "diffInserts": [],
       "displayType": "redashChart",
       "error": null,
       "errorDetails": null,
       "errorSummary": null,
       "errorTraceType": null,
       "finishTime": 0,
       "globalVars": {},
       "guid": "",
       "height": "auto",
       "hideCommandCode": false,
       "hideCommandResult": false,
       "iPythonMetadata": null,
       "inputWidgets": {},
       "isLockedInExamMode": false,
       "latestUser": "a user",
       "latestUserId": null,
       "listResultMetadata": null,
       "metadata": {},
       "nuid": "75d3a63a-0980-4d0d-a75c-ef08c44a9212",
       "origId": 0,
       "parentHierarchy": [],
       "pivotAggregation": null,
       "pivotColumns": null,
       "position": 7.0,
       "resultDbfsErrorMessage": null,
       "resultDbfsStatus": "INLINED_IN_TREE",
       "results": null,
       "showCommandTitle": false,
       "startTime": 0,
       "state": "input",
       "streamStates": {},
       "subcommandOptions": {
        "queryPlan": {
         "groups": [
          {
           "column": "customer_id",
           "type": "column"
          }
         ],
         "selects": [
          {
           "column": "customer_id",
           "type": "column"
          },
          {
           "alias": "column_188f7c60259",
           "args": [
            {
             "column": "total_cancellations",
             "type": "column"
            }
           ],
           "function": "SUM",
           "type": "function"
          }
         ]
        }
       },
       "submitTime": 0,
       "subtype": "tableResultSubCmd.visualization",
       "tableResultIndex": 0,
       "tableResultSettingsMap": {},
       "useConsistentColors": false,
       "version": "CommandV1",
       "width": "auto",
       "workflows": [],
       "xColumns": null,
       "yColumns": null
      }
     },
     "output_type": "display_data"
    }
   ],
   "source": [
    "%python\n",
    "from pyspark.sql import SparkSession\n",
    "\n",
    "# Initialize Spark Session\n",
    "spark = SparkSession.builder.appName(\"FrequentCancellations\").getOrCreate()\n",
    "\n",
    "# Load the orders.csv file from the Databricks file system (DBFS)\n",
    "df_orders = spark.read.csv(\"/Volumes/workspace/default/food_delivery/orders.csv\", header=True, inferSchema=True)\n",
    "\n",
    "# Register the DataFrame as a temporary SQL view\n",
    "df_orders.createOrReplaceTempView(\"orders\")\n",
    "\n",
    "# Use PySpark SQL to find customers with the most cancellations\n",
    "sql_query_cancellations = \"\"\"\n",
    "SELECT\n",
    "    customer_id,\n",
    "    COUNT(*) AS total_cancellations\n",
    "FROM\n",
    "    orders\n",
    "WHERE\n",
    "    order_status = 'Cancelled'\n",
    "GROUP BY\n",
    "    customer_id\n",
    "ORDER BY\n",
    "    total_cancellations DESC\n",
    "\"\"\"\n",
    "\n",
    "# Execute the SQL query and show the result\n",
    "frequent_cancellations = spark.sql(sql_query_cancellations)\n",
    "display(frequent_cancellations)"
   ]
  },
  {
   "cell_type": "markdown",
   "metadata": {
    "application/vnd.databricks.v1+cell": {
     "cellMetadata": {},
     "inputWidgets": {},
     "nuid": "c03972ba-6474-4c04-9b0e-d93a7839667e",
     "showTitle": false,
     "tableResultSettingsMap": {},
     "title": ""
    }
   },
   "source": [
    "sql question 2"
   ]
  },
  {
   "cell_type": "code",
   "execution_count": 0,
   "metadata": {
    "application/vnd.databricks.v1+cell": {
     "cellMetadata": {
      "byteLimit": 2048000,
      "rowLimit": 10000
     },
     "inputWidgets": {},
     "nuid": "07e35138-196d-4c37-8b26-a3bd2bf448c7",
     "showTitle": false,
     "tableResultSettingsMap": {},
     "title": ""
    }
   },
   "outputs": [
    {
     "output_type": "display_data",
     "data": {
      "text/html": [
       "<style scoped>\n",
       "  .table-result-container {\n",
       "    max-height: 300px;\n",
       "    overflow: auto;\n",
       "  }\n",
       "  table, th, td {\n",
       "    border: 1px solid black;\n",
       "    border-collapse: collapse;\n",
       "  }\n",
       "  th, td {\n",
       "    padding: 5px;\n",
       "  }\n",
       "  th {\n",
       "    text-align: left;\n",
       "  }\n",
       "</style><div class='table-result-container'><table class='table-result'><thead style='background-color: white'><tr><th>order_hour</th><th>total_orders</th></tr></thead><tbody><tr><td>12</td><td>8</td></tr><tr><td>19</td><td>8</td></tr><tr><td>20</td><td>7</td></tr><tr><td>21</td><td>7</td></tr><tr><td>13</td><td>6</td></tr><tr><td>11</td><td>5</td></tr><tr><td>14</td><td>4</td></tr><tr><td>18</td><td>2</td></tr><tr><td>22</td><td>1</td></tr><tr><td>16</td><td>1</td></tr><tr><td>10</td><td>1</td></tr></tbody></table></div>"
      ]
     },
     "metadata": {
      "application/vnd.databricks.v1+output": {
       "addedWidgets": {},
       "aggData": [],
       "aggError": "",
       "aggOverflow": false,
       "aggSchema": [],
       "aggSeriesLimitReached": false,
       "aggType": "",
       "arguments": {},
       "columnCustomDisplayInfos": {},
       "data": [
        [
         12,
         8
        ],
        [
         19,
         8
        ],
        [
         20,
         7
        ],
        [
         21,
         7
        ],
        [
         13,
         6
        ],
        [
         11,
         5
        ],
        [
         14,
         4
        ],
        [
         18,
         2
        ],
        [
         22,
         1
        ],
        [
         16,
         1
        ],
        [
         10,
         1
        ]
       ],
       "datasetInfos": [],
       "dbfsResultPath": null,
       "isJsonSchema": true,
       "metadata": {},
       "overflow": false,
       "plotOptions": {
        "customPlotOptions": {},
        "displayType": "table",
        "pivotAggregation": null,
        "pivotColumns": null,
        "xColumns": null,
        "yColumns": null
       },
       "removedWidgets": [],
       "schema": [
        {
         "metadata": "{}",
         "name": "order_hour",
         "type": "\"integer\""
        },
        {
         "metadata": "{}",
         "name": "total_orders",
         "type": "\"long\""
        }
       ],
       "type": "table"
      }
     },
     "output_type": "display_data"
    },
    {
     "output_type": "display_data",
     "data": {
      "text/plain": [
       "Databricks visualization. Run in Databricks to view."
      ]
     },
     "metadata": {
      "application/vnd.databricks.v1.subcommand+json": {
       "baseErrorDetails": null,
       "bindings": {},
       "collapsed": false,
       "command": "%python\n__backend_agg_display_orig = display\n__backend_agg_dfs = []\ndef __backend_agg_display_new(df):\n    __backend_agg_df_modules = [\"pandas.core.frame\", \"databricks.koalas.frame\", \"pyspark.sql.dataframe\", \"pyspark.pandas.frame\", \"pyspark.sql.connect.dataframe\"]\n    if (type(df).__module__ in __backend_agg_df_modules and type(df).__name__ == 'DataFrame') or isinstance(df, list):\n        __backend_agg_dfs.append(df)\n\ndisplay = __backend_agg_display_new\n\ndef __backend_agg_user_code_fn():\n    import base64\n    exec(base64.standard_b64decode(\"IyBMb2FkIHRoZSBvcmRlcnMuY3N2IGZpbGUgZnJvbSB0aGUgRGF0YWJyaWNrcyBmaWxlIHN5c3RlbSAoREJGUykKZGZfb3JkZXJzID0gc3BhcmsucmVhZC5jc3YoCiAgICAiL1ZvbHVtZXMvd29ya3NwYWNlL2RlZmF1bHQvZm9vZF9kZWxpdmVyeS9vcmRlcnMuY3N2IiwKICAgIGhlYWRlcj1UcnVlLAogICAgaW5mZXJTY2hlbWE9VHJ1ZQopCgojIFJlZ2lzdGVyIHRoZSBEYXRhRnJhbWUgYXMgYSB0ZW1wb3JhcnkgU1FMIHZpZXcKZGZfb3JkZXJzLmNyZWF0ZU9yUmVwbGFjZVRlbXBWaWV3KCJvcmRlcnMiKQoKIyBVc2UgUHlTcGFyayBTUUwgdG8gZmluZCB0aGUgcGVhayBvcmRlciBob3VycwpzcWxfcXVlcnlfcGVha19ob3VycyA9ICIiIgpTRUxFQ1QKICAgIEhPVVIoZGF0ZV90aW1lc3RhbXApIEFTIG9yZGVyX2hvdXIsCiAgICBDT1VOVCgqKSBBUyB0b3RhbF9vcmRlcnMKRlJPTQogICAgb3JkZXJzCkdST1VQIEJZCiAgICBvcmRlcl9ob3VyCk9SREVSIEJZCiAgICB0b3RhbF9vcmRlcnMgREVTQwoiIiIKCiMgRXhlY3V0ZSB0aGUgU1FMIHF1ZXJ5IGFuZCBzaG93IHRoZSByZXN1bHQKcGVha19vcmRlcl9ob3VycyA9IHNwYXJrLnNxbChzcWxfcXVlcnlfcGVha19ob3VycykKZGlzcGxheShwZWFrX29yZGVyX2hvdXJzKQ==\").decode())\n\ntry:\n    # run user code\n    __backend_agg_user_code_fn()\n\n    #reset display function\n    display = __backend_agg_display_orig\n\n    if len(__backend_agg_dfs) > 0:\n        # create a temp view\n        if type(__backend_agg_dfs[0]).__module__ == \"databricks.koalas.frame\":\n            # koalas dataframe\n            __backend_agg_dfs[0].to_spark().createOrReplaceTempView(\"DatabricksView3a1e995\")\n        elif type(__backend_agg_dfs[0]).__module__ == \"pandas.core.frame\" or isinstance(__backend_agg_dfs[0], list):\n            # pandas dataframe\n            spark.createDataFrame(__backend_agg_dfs[0]).createOrReplaceTempView(\"DatabricksView3a1e995\")\n        else:\n            __backend_agg_dfs[0].createOrReplaceTempView(\"DatabricksView3a1e995\")\n        #run backend agg\n        display(spark.sql(\"\"\"WITH q AS (select * from DatabricksView3a1e995) SELECT `order_hour`,SUM(`total_orders`) `column_188f7c60331` FROM q GROUP BY `order_hour`\"\"\"))\n    else:\n        displayHTML(\"dataframe no longer exists. If you're using dataframe.display(), use display(dataframe) instead.\")\n\n\nfinally:\n    spark.sql(\"drop view if exists DatabricksView3a1e995\")\n    display = __backend_agg_display_orig\n    del __backend_agg_display_new\n    del __backend_agg_display_orig\n    del __backend_agg_dfs\n    del __backend_agg_user_code_fn\n\n",
       "commandTitle": "Visualization 1",
       "commandType": "auto",
       "commandVersion": 0,
       "commentThread": [],
       "commentsVisible": false,
       "contentSha256Hex": null,
       "customPlotOptions": {
        "redashChart": [
         {
          "key": "type",
          "value": "CHART"
         },
         {
          "key": "options",
          "value": {
           "alignYAxesAtZero": true,
           "coefficient": 1,
           "columnConfigurationMap": {
            "x": {
             "column": "order_hour",
             "id": "column_188f7c60330"
            },
            "y": [
             {
              "column": "total_orders",
              "id": "column_188f7c60331",
              "transform": "SUM"
             }
            ]
           },
           "dateTimeFormat": "DD/MM/YYYY HH:mm",
           "direction": {
            "type": "counterclockwise"
           },
           "error_y": {
            "type": "data",
            "visible": true
           },
           "globalSeriesType": "area",
           "isAggregationOn": true,
           "legend": {
            "traceorder": "normal"
           },
           "missingValuesAsZero": true,
           "numberFormat": "0,0.[00000]",
           "percentFormat": "0[.]00%",
           "series": {
            "error_y": {
             "type": "data",
             "visible": true
            },
            "stacking": null
           },
           "seriesOptions": {
            "column_188f7c60331": {
             "name": "total_orders",
             "type": "area",
             "yAxis": 0
            }
           },
           "showDataLabels": false,
           "sizemode": "diameter",
           "sortX": true,
           "sortY": true,
           "swappedAxes": false,
           "textFormat": "",
           "useAggregationsUi": true,
           "valuesOptions": {},
           "version": 2,
           "xAxis": {
            "labels": {
             "enabled": true
            },
            "type": "-"
           },
           "yAxis": [
            {
             "type": "-"
            },
            {
             "opposite": true,
             "type": "-"
            }
           ]
          }
         }
        ]
       },
       "datasetPreviewNameToCmdIdMap": {},
       "diffDeletes": [],
       "diffInserts": [],
       "displayType": "redashChart",
       "error": null,
       "errorDetails": null,
       "errorSummary": null,
       "errorTraceType": null,
       "finishTime": 0,
       "globalVars": {},
       "guid": "",
       "height": "auto",
       "hideCommandCode": false,
       "hideCommandResult": false,
       "iPythonMetadata": null,
       "inputWidgets": {},
       "isLockedInExamMode": false,
       "latestUser": "a user",
       "latestUserId": null,
       "listResultMetadata": null,
       "metadata": {},
       "nuid": "d944f383-1eb8-43d9-b854-bb20e8f48728",
       "origId": 0,
       "parentHierarchy": [],
       "pivotAggregation": null,
       "pivotColumns": null,
       "position": 10.0,
       "resultDbfsErrorMessage": null,
       "resultDbfsStatus": "INLINED_IN_TREE",
       "results": null,
       "showCommandTitle": false,
       "startTime": 0,
       "state": "input",
       "streamStates": {},
       "subcommandOptions": {
        "queryPlan": {
         "groups": [
          {
           "column": "order_hour",
           "type": "column"
          }
         ],
         "selects": [
          {
           "column": "order_hour",
           "type": "column"
          },
          {
           "alias": "column_188f7c60331",
           "args": [
            {
             "column": "total_orders",
             "type": "column"
            }
           ],
           "function": "SUM",
           "type": "function"
          }
         ]
        }
       },
       "submitTime": 0,
       "subtype": "tableResultSubCmd.visualization",
       "tableResultIndex": 0,
       "tableResultSettingsMap": {},
       "useConsistentColors": false,
       "version": "CommandV1",
       "width": "auto",
       "workflows": [],
       "xColumns": null,
       "yColumns": null
      }
     },
     "output_type": "display_data"
    }
   ],
   "source": [
    "%python\n",
    "# Load the orders.csv file from the Databricks file system (DBFS)\n",
    "df_orders = spark.read.csv(\n",
    "    \"/Volumes/workspace/default/food_delivery/orders.csv\",\n",
    "    header=True,\n",
    "    inferSchema=True\n",
    ")\n",
    "\n",
    "# Register the DataFrame as a temporary SQL view\n",
    "df_orders.createOrReplaceTempView(\"orders\")\n",
    "\n",
    "# Use PySpark SQL to find the peak order hours\n",
    "sql_query_peak_hours = \"\"\"\n",
    "SELECT\n",
    "    HOUR(date_timestamp) AS order_hour,\n",
    "    COUNT(*) AS total_orders\n",
    "FROM\n",
    "    orders\n",
    "GROUP BY\n",
    "    order_hour\n",
    "ORDER BY\n",
    "    total_orders DESC\n",
    "\"\"\"\n",
    "\n",
    "# Execute the SQL query and show the result\n",
    "peak_order_hours = spark.sql(sql_query_peak_hours)\n",
    "display(peak_order_hours)"
   ]
  }
 ],
 "metadata": {
  "application/vnd.databricks.v1+notebook": {
   "computePreferences": null,
   "dashboards": [
    {
     "elements": [
      {
       "dashboardResultIndex": null,
       "elementNUID": "d5fd7ff0-9406-44cf-be35-3b122b44e5b2",
       "elementType": "command",
       "guid": "0d7ec9ad-64ff-4064-a2ef-6b7768e2377f",
       "options": null,
       "position": {
        "height": 6,
        "width": 10,
        "x": 0,
        "y": 5,
        "z": null
       },
       "resultIndex": null
      },
      {
       "dashboardResultIndex": null,
       "elementNUID": "87df391c-43d9-47a2-85c5-4d67fd763498",
       "elementType": "command",
       "guid": "24ebf055-f228-4c12-b290-2b04d2abcdd1",
       "options": null,
       "position": {
        "height": 5,
        "width": 13,
        "x": 0,
        "y": 0,
        "z": null
       },
       "resultIndex": null
      },
      {
       "dashboardResultIndex": null,
       "elementNUID": "d944f383-1eb8-43d9-b854-bb20e8f48728",
       "elementType": "command",
       "guid": "6d6e313a-af7a-4df8-b582-6084e84403a3",
       "options": null,
       "position": {
        "height": 5,
        "width": 11,
        "x": 13,
        "y": 0,
        "z": null
       },
       "resultIndex": null
      },
      {
       "dashboardResultIndex": null,
       "elementNUID": "75d3a63a-0980-4d0d-a75c-ef08c44a9212",
       "elementType": "command",
       "guid": "6facf9d2-b84a-45fc-8e49-b574cf3e9831",
       "options": null,
       "position": {
        "height": 6,
        "width": 12,
        "x": 10,
        "y": 5,
        "z": null
       },
       "resultIndex": null
      }
     ],
     "globalVars": {},
     "guid": "",
     "layoutOption": {
      "grid": true,
      "stack": true
     },
     "nuid": "92e8d9a0-477e-441d-8fb6-d7ad18a2756a",
     "origId": 8382117119907908,
     "title": "dashboard",
     "version": "DashboardViewV1",
     "width": 1024
    }
   ],
   "environmentMetadata": {
    "base_environment": "",
    "environment_version": "3"
   },
   "inputWidgetPreferences": null,
   "language": "python",
   "notebookMetadata": {
    "mostRecentlyExecutedCommandWithImplicitDF": {
     "commandId": 8382117119907897,
     "dataframes": [
      "_sqldf"
     ]
    },
    "pythonIndentUnit": 4
   },
   "notebookName": "internal_1 2025-09-03 16:54:36",
   "widgets": {}
  },
  "language_info": {
   "name": "python"
  }
 },
 "nbformat": 4,
 "nbformat_minor": 0
}